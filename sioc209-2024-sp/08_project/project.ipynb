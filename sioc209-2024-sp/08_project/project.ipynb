{
 "cells": [
  {
   "cell_type": "markdown",
   "metadata": {},
   "source": [
    "## Final project"
   ]
  },
  {
   "cell_type": "markdown",
   "metadata": {},
   "source": [
    "For the final project, you will be working on a dataset of your choice. You will be responsible for framing a problem, preparing a dataset, building and training a deep learning model, and analyzing and reporting on the effectiveness of the model.\n",
    "\n",
    "### Objectives:\n",
    "- (Frame a problem and prepare a dataset amenable to deep learning)\n",
    "- Demonstrate the ability to build and train a deep learning model\n",
    "- Explore and adjust the model to enhance performance to learn the effects of key hyperparameters.\n",
    "- Analyze and report on the effectiveness of model adjustments\n",
    "\n",
    "### Instructions\n",
    "\n",
    "1. Choose a dataset that you are interested in. You can use any dataset that you like, but it should be a dataset that is amenable to deep learning as you don't want to spend too long cleaning it. It could be supervised or unsupervised. You can use a dataset from a previous project (or assignment), or you can find a new dataset. \n",
    "    - A nice size image segmentation problem is described in this [paper](https://agupubs.onlinelibrary.wiley.com/doi/10.1029/2020GL092213), with associated [code](https://github.com/climate-processes/poc-detection) and [data](https://zenodo.org/records/6810590).\n",
    "    - If you use one of the assignment projects, you should expand the problem to include more features or more classes, or spend more time on the analysis to make it more interesting.\n",
    "    - Feel free to reach out if you are unsure about the dataset you want to use.\n",
    "\n",
    "2. Frame a problem that you would like to solve with the dataset. You should provide a brief description of the problem and why it is interesting or important.\n",
    "\n",
    "3. Prepare the dataset for deep learning. This may involve cleaning the data, normalizing the data, splitting the data into training and testing sets, and any other necessary preprocessing steps.\n",
    "\n",
    "4. Build and train a deep learning model on the dataset. You can use any deep learning framework that you like (e.g., TensorFlow, Keras, PyTorch). You should experiment with different architectures, hyperparameters, and optimization algorithms to try to improve the performance of the model.\n",
    "\n",
    "5. Analyze and report on the effectiveness of the model. You should evaluate the model on a test set and report on the performance metrics (e.g., accuracy, precision, recall, F1 score, etc.). You should also analyze the model's performance and discuss any insights that you gained from the project.\n",
    "\n",
    "6. Create a Jupyter notebook that documents your work. The notebook should include the sections outlined below.\n"
   ]
  },
  {
   "cell_type": "markdown",
   "metadata": {},
   "source": [
    "\n",
    "#### Assignment Details:\n",
    "1. **Introduction**\n",
    "   - Provide a brief overview of the task and its importance in environmental science (1-2 sentences).\n",
    "   - Describe the dataset that you are using and the steps that you took to prepare the data for deep learning.\n",
    "\n",
    "2. **Model Building**\n",
    "   - Describe the baseline model (if any):\n",
    "   - Describe the deep learning model that you built and trained on the dataset:\n",
    "     - Model architecture and reasoning behind its suitability for the task.\n",
    "     - Training procedure (e.g., optimization algorithm, learning rate, batch size, etc).\n",
    "   - Implement your model (and baseline model if avaiable) using the provided dataset.\n",
    "\n",
    "3. **Model Evaluation**\n",
    "   - Evaluate the model on a test set and report on the performance metrics (e.g., accuracy, precision, recall, F1 score, etc).\n",
    "\n",
    "4. **Results Analysis**\n",
    "   - Compare the performance of the baseline and developed models using appropriate statistical metrics (e.g., precision, recall, F1-score).\n",
    "   - Discuss the effectiveness of each adjustment in improving the model's performance.\n",
    "\n",
    "5. **Conclusion**\n",
    "   - Summarize key findings and lessons learned from the model adjustments.\n",
    "   - Suggest potential future work."
   ]
  },
  {
   "cell_type": "markdown",
   "metadata": {},
   "source": [
    "\n",
    "#### Rubric:\n",
    "- **Introduction** (10%)\n",
    "  - Clarity and completeness of the overview (5%)\n",
    "  - Understanding of the task's relevance (5%)\n",
    "\n",
    "- **Model Building** (50%)\n",
    "  - Correct implementation and reporting of baseline model (10%)\n",
    "  - Development of a suitable deep learning model (30%)\n",
    "  - Accuracy and detail in the description of each model (10%)\n",
    "\n",
    "- **Model Evaluation** (20%)\n",
    "  - Correct implementation of evaluation metrics (10%)\n",
    "  - Accuracy and detail in the description of model performance (10%)\n",
    "\n",
    "- **Results Analysis** (15%)\n",
    "  - Clarity and accuracy in comparing model performances (10%)\n",
    "  - Depth of discussion on model choices and improvements (5%)\n",
    "\n",
    "- **Conclusion** (5%)\n",
    "  - Effectiveness of summary and reflection on the assignment (5%)\n",
    "\n",
    "- **Group Presentation** (BONUS 15%)\n",
    "  - Clarity and completeness of the presentation (10%)\n",
    "  - Ability to answer questions (5%)"
   ]
  },
  {
   "cell_type": "markdown",
   "metadata": {},
   "source": [
    "### Submission Guidelines:\n",
    "- Format: Jupyter Notebook with annotations and text descriptions inline. Roughly 10-20 pages, including code and figures, if it were printed.\n",
    "- The (optional) presentation should be 5 minutes long (plus 2 minutes for questions) and will be held in class on Wednesday 5th. *Please let me know if you would like to present by Friday 31st so I can schedule the presentations*.\n",
    "- Deadline: **Friday June 7th**"
   ]
  },
  {
   "cell_type": "markdown",
   "metadata": {},
   "source": []
  }
 ],
 "metadata": {
  "language_info": {
   "name": "python"
  }
 },
 "nbformat": 4,
 "nbformat_minor": 2
}
