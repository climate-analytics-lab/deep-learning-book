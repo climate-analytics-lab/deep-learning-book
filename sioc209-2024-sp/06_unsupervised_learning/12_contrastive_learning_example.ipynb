{
 "cells": [
  {
   "cell_type": "markdown",
   "metadata": {
    "slideshow": {
     "slide_type": "slide"
    }
   },
   "source": [
    "# Deep Learning for Geo/Environmental sciences\n",
    "\n",
    "<center><img src=\"../logo_2.png\" alt=\"logo\" width=\"500\"/></center>\n",
    "\n",
    "<em>*Created with ChapGPT</em>"
   ]
  },
  {
   "cell_type": "markdown",
   "metadata": {
    "slideshow": {
     "slide_type": "notes"
    }
   },
   "source": [
    "[![Open In Colab](https://colab.research.google.com/assets/colab-badge.svg)](https://colab.research.google.com/github/climate-analytics-lab/sioc209-2024-sp/blob/main/sioc209-2024-sp/06_unsupervised_learning/11_dimensionality_reduction.ipynb)"
   ]
  },
  {
   "cell_type": "markdown",
   "metadata": {
    "slideshow": {
     "slide_type": "slide"
    }
   },
   "source": [
    "## Lecture 13: Contrastive Learning\n",
    "\n",
    " - [Recap](#Recap)\n",
    " - [Contrastive Learning](#Contrastive-Learning)\n",
    " - [SimCLR](#SimCLR)\n",
    " - [Tile2Vec](#Tile2Vec)\n",
    " - [Applying Contrastive Learning to Remote Sensing](#Applying-Contrastive-Learning-to-Remote-Sensing)"
   ]
  },
  {
   "cell_type": "markdown",
   "metadata": {
    "slideshow": {
     "slide_type": "slide"
    }
   },
   "source": [
    "## Recap\n",
    "\n",
    "In the last lecture we introduced unsupervised learning and discussed dimensionality reduction techniques. We learned about three feature extraction techniques: PCA, t-SNE, and Autoencoders."
   ]
  },
  {
   "cell_type": "markdown",
   "metadata": {
    "slideshow": {
     "slide_type": "fragment"
    }
   },
   "source": [
    "These are distinct from feature selection techniques, which select a subset of the original features. Feature extraction techniques transform the original features into a new set of features."
   ]
  },
  {
   "cell_type": "markdown",
   "metadata": {
    "slideshow": {
     "slide_type": "fragment"
    }
   },
   "source": [
    "As unsupervised learning techniques, they do not require labeled data. They are used to reduce the dimensionality of the data, which can help in visualizing the data, removing noise, and improving the performance of machine learning models."
   ]
  },
  {
   "cell_type": "markdown",
   "metadata": {
    "slideshow": {
     "slide_type": "subslide"
    }
   },
   "source": [
    "## Recap\n",
    "\n",
    "While PCA will preserve the global structure of the data, t-SNE will preserve the local structure of the data. This makes t-SNE particularly well-suited for visualizing clusters in high-dimensional data. \n"
   ]
  },
  {
   "cell_type": "markdown",
   "metadata": {
    "slideshow": {
     "slide_type": "fragment"
    }
   },
   "source": [
    "\n",
    "Both techniques have their strengths and weaknesses, and the choice of which technique to use will depend on the specific characteristics of the data and the goals of the analysis."
   ]
  },
  {
   "cell_type": "markdown",
   "metadata": {
    "slideshow": {
     "slide_type": "fragment"
    }
   },
   "source": [
    "Autoencoders are a type of neural network that are trained to learn a compressed representation of the input data. We showed how to build an autoencoder using Keras and how to use it for dimensionality reduction and denoising."
   ]
  },
  {
   "cell_type": "markdown",
   "metadata": {
    "slideshow": {
     "slide_type": "slide"
    }
   },
   "source": [
    "### Unsupervised, Semi-Supervised, and Self-Supervised Learning\n",
    "\n",
    "As we discussed in the last lecture, unsupervised learning is a type of machine learning that involves training models on data without labels. This is in contrast to supervised learning, where models are trained on labeled data, and reinforcement learning, where models are trained through trial and error.\n"
   ]
  },
  {
   "cell_type": "markdown",
   "metadata": {
    "slideshow": {
     "slide_type": "fragment"
    }
   },
   "source": [
    "\n",
    "Unsupervised learning can be further divided into unsupervised, semi-supervised, and self-supervised learning:\n",
    " - In unsupervised learning, models are trained on data without labels. \n",
    " - In semi-supervised learning, models are trained on a combination of labeled and unlabeled data. \n",
    " - In self-supervised learning, models are trained on data that is automatically labeled by the model itself.\n"
   ]
  },
  {
   "cell_type": "markdown",
   "metadata": {
    "slideshow": {
     "slide_type": "fragment"
    }
   },
   "source": [
    "\n",
    "In this lecture, we will focus on self-supervised learning, and in particular, contrastive learning.\n"
   ]
  },
  {
   "cell_type": "markdown",
   "metadata": {
    "slideshow": {
     "slide_type": "subslide"
    }
   },
   "source": [
    "\n",
    "### Pre-text Tasks\n",
    "\n",
    "In self-supervised learning, models are trained on pre-text tasks. These are tasks that are designed to provide supervision to the model without requiring human-labeled data. The model is trained to solve these pre-text tasks, and in the process, it learns useful representations of the data that can be transferred to downstream tasks.\n"
   ]
  },
  {
   "cell_type": "markdown",
   "metadata": {
    "slideshow": {
     "slide_type": "fragment"
    }
   },
   "source": [
    "\n",
    "Pre-text tasks can take many forms, such as predicting the rotation of an image, predicting the relative position of patches in an image, or predicting the color of a grayscale image. The key idea is that the pre-text task should be designed in such a way that the model learns useful representations of the data.\n"
   ]
  },
  {
   "cell_type": "markdown",
   "metadata": {
    "slideshow": {
     "slide_type": "slide"
    }
   },
   "source": [
    "\n",
    "## Contrastive Learning\n",
    "\n",
    "Contrastive learning is a technique for learning representations of data by contrasting similar and dissimilar pairs of data points. The idea is to learn a representation that brings similar data points closer together in the embedding space and pushes dissimilar data points further apart.\n"
   ]
  },
  {
   "cell_type": "markdown",
   "metadata": {
    "slideshow": {
     "slide_type": "fragment"
    }
   },
   "source": [
    "\n",
    "It is typically used in unsupervised learning and self-supervised learning, where the goal is to learn representations of data without the need for labeled data, and often as a pretraining (or pretext) step for supervised learning tasks.\n"
   ]
  },
  {
   "cell_type": "markdown",
   "metadata": {
    "slideshow": {
     "slide_type": "fragment"
    }
   },
   "source": [
    "\n",
    "The idea of pretraining is to learn a good representation of the data in an unsupervised manner, and then fine-tune this representation on a supervised task. This can help to improve the performance of the model on the supervised task, especially when labeled data is scarce. \n"
   ]
  },
  {
   "cell_type": "markdown",
   "metadata": {
    "slideshow": {
     "slide_type": "subslide"
    }
   },
   "source": [
    "## Contrastive Learning\n",
    "\n",
    "A key element of contrastive learning is choosing the augmentation strategy. The augmentation strategy is used to create positive and negative pairs of data points for the contrastive loss. Positive pairs are pairs of data points that are similar, while negative pairs are pairs of data points that are dissimilar."
   ]
  },
  {
   "cell_type": "markdown",
   "metadata": {
    "slideshow": {
     "slide_type": "fragment"
    }
   },
   "source": [
    "In choosing the augmentation strategy we are providing the model with a way to learn the invariances in the data. For example, in the case of images, we might use random crops, rotations, flips, and color distortions as augmentations. These augmentations help the model to learn to recognize objects regardless of their position, orientation, or color."
   ]
  },
  {
   "cell_type": "markdown",
   "metadata": {
    "slideshow": {
     "slide_type": "fragment"
    }
   },
   "source": [
    "In this way we are implicitly teaching the model about the underlying structure of the data, without needing to provide explicit labels. This is the key idea behind contrastive learning. Let's look at two different approaches for this."
   ]
  },
  {
   "cell_type": "markdown",
   "metadata": {
    "slideshow": {
     "slide_type": "slide"
    }
   },
   "source": [
    "### SimCLR\n",
    "\n",
    "A Simple Framework for Contrastive Learning of Visual Representations (SimCLR) is a contrastive learning technique that learns visual representations of images by contrasting similar and dissimilar pairs of images. The technique is based on the idea of learning a representation of the image that captures the underlying structure of the image.\n"
   ]
  },
  {
   "cell_type": "markdown",
   "metadata": {
    "slideshow": {
     "slide_type": "notes"
    }
   },
   "source": [
    "\n",
    "It was introduced by Chen et al. in 2020 and has nearly 17000 citations as of today: https://arxiv.org/abs/2002.05709\n"
   ]
  },
  {
   "cell_type": "markdown",
   "metadata": {
    "slideshow": {
     "slide_type": "fragment"
    }
   },
   "source": [
    "\n",
    "SimCLR works by training a neural network to predict the similarity of pairs of images. The network is trained using a contrastive loss function, which encourages the network to learn representations that are close together for similar images and far apart for dissimilar images.\n"
   ]
  },
  {
   "cell_type": "markdown",
   "metadata": {
    "slideshow": {
     "slide_type": "fragment"
    }
   },
   "source": [
    "\n",
    "The result is a set of visual representations of the images that capture the underlying structure of the images. These representations can be used for a variety of tasks, such as image retrieval, image classification, and image segmentation.\n"
   ]
  },
  {
   "cell_type": "markdown",
   "metadata": {
    "slideshow": {
     "slide_type": "subslide"
    }
   },
   "source": [
    "\n",
    "<center><img src=\"_images/simCLR.gif\" alt=\"SimCLR\" width=\"600\"/></center>\n"
   ]
  },
  {
   "cell_type": "markdown",
   "metadata": {
    "slideshow": {
     "slide_type": "subslide"
    }
   },
   "source": [
    "### SimCLR\n",
    "The key components of SimCLR are:\n",
    "\n",
    "1. Data augmentation: SimCLR uses a variety of data augmentation techniques to generate pairs of similar and dissimilar images. This helps the network to learn representations that are invariant to small changes in the input data.\n",
    "\n",
    "2. Contrastive loss function: SimCLR uses a contrastive loss function to train the network to learn representations that are close together for similar images and far apart for dissimilar images. The contrastive loss function encourages the network to learn a meaningful representation of the images that captures the underlying structure of the images.\n"
   ]
  },
  {
   "cell_type": "markdown",
   "metadata": {
    "slideshow": {
     "slide_type": "subslide"
    }
   },
   "source": [
    "\n",
    "#### Data Augmentation\n",
    "\n",
    "Choosing the right data augmentation techniques is crucial for the success of SimCLR. The choice of data augmentation techniques will depend on the characteristics of the data and the goals of the analysis. \n"
   ]
  },
  {
   "cell_type": "markdown",
   "metadata": {
    "slideshow": {
     "slide_type": "fragment"
    }
   },
   "source": [
    "\n",
    "Some common data augmentation techniques used in SimCLR include random cropping, random flipping, random color distortion, and random Gaussian blur. \n"
   ]
  },
  {
   "cell_type": "markdown",
   "metadata": {
    "slideshow": {
     "slide_type": "fragment"
    }
   },
   "source": [
    "\n",
    "As already discussed, these augmentations encode the invariances that we want the model to learn, such as invariance to translation, rotation, and color changes. These might not all apply to your data!"
   ]
  },
  {
   "cell_type": "markdown",
   "metadata": {
    "slideshow": {
     "slide_type": "subslide"
    }
   },
   "source": [
    "#### Contrastive Loss Function\n",
    "\n",
    "A variety of loss functions were compared in the original SimCLR paper, including the InfoNCE loss, the NT-Xent loss, and the N-Pair loss. The NT-Xent loss was found to perform the best, and is the loss function used in the SimCLR implementation:\n",
    "\n",
    "$$\n",
    "L_{i,j} = -\\log\\left(\\frac{\\exp(z_i \\cdot z_j / \\tau)}{\\sum_{k=1}^{2N} \\mathbb{1}_{[k \\neq i]} \\exp(z_i \\cdot z_k / \\tau)}\\right)\n",
    "$$\n",
    "\n",
    "where $z_i$ and $z_j$ are the representations of the positive pair of images, $\\tau$ is a temperature parameter that controls the sharpness of the distribution, and $\\mathbb{1}_{[k \\neq i]}$ is an indicator function that is 1 if $k \\neq i$ and 0 otherwise."
   ]
  },
  {
   "cell_type": "markdown",
   "metadata": {
    "slideshow": {
     "slide_type": "notes"
    }
   },
   "source": [
    "The model includes a projection head that maps the high-dimensional representations to a lower-dimensional space. This helps to improve the quality of the learned representations and makes the model more efficient. The projection head is typically a small neural network that consists of one or more fully connected layers with a non-linear activation function and is thrown away after training."
   ]
  },
  {
   "cell_type": "markdown",
   "metadata": {
    "slideshow": {
     "slide_type": "slide"
    }
   },
   "source": [
    "## Tile2Vec\n",
    "\n",
    "Tile2Vec is another technique for learning visual representations of imagery using unsupervised learning. The technique is based on the idea of learning a representation of the spatial context of the image tiles, rather than the content of the tiles themselves.\n"
   ]
  },
  {
   "cell_type": "markdown",
   "metadata": {
    "slideshow": {
     "slide_type": "notes"
    }
   },
   "source": [
    "You can read more about the algorithm in the original 2018 paper: https://arxiv.org/abs/1805.02855"
   ]
  },
  {
   "cell_type": "markdown",
   "metadata": {
    "slideshow": {
     "slide_type": "fragment"
    }
   },
   "source": [
    "\n",
    "Tile2Vec works by training a convolutional neural network to predict the spatial context of the image tiles. For each training image, a nearby and a distant image are chosen to act as similar and disimilar examples. A contrastive loss is then used to map this nearby and far away in the emdedding space.\n"
   ]
  },
  {
   "cell_type": "markdown",
   "metadata": {
    "slideshow": {
     "slide_type": "fragment"
    }
   },
   "source": [
    "\n",
    "The result is a set of visual representations of the image tiles that capture the spatial context of the tiles. These representations can be used for a variety of tasks, such as image retrieval, image classification, and image segmentation.\n",
    "\n"
   ]
  },
  {
   "cell_type": "markdown",
   "metadata": {
    "slideshow": {
     "slide_type": "subslide"
    }
   },
   "source": [
    "## Tile2Vec\n",
    "\n",
    "Tile2Vec is a powerful technique for learning visual representations of satellite imagery and has been shown to outperform other techniques for satellite image retrieval and classification.\n"
   ]
  },
  {
   "cell_type": "markdown",
   "metadata": {
    "slideshow": {
     "slide_type": "fragment"
    }
   },
   "source": [
    "\n",
    "The tile2vec algorithm uses a triplet loss, where the network is trained to minimize the distance between similar pairs of data points and maximize the distance between dissimilar pairs of data points:\n",
    "\n",
    "$$\n",
    "L = \\sum_{i=1}^{N} \\max(0, \\alpha + d(f(x_i), f(x_i^+)) - d(f(x_i), f(x_i^-)))\n",
    "$$\n",
    "\n",
    "where $ d $ is a distance function, $ f $ is a function that maps the data points to the embedding space, $ x_i $ is a data point, $ x_i^+ $ is a similar data point, $ x_i^- $ is a dissimilar data point, and $ \\alpha $ is a margin that separates the similar and dissimilar pairs."
   ]
  },
  {
   "cell_type": "markdown",
   "metadata": {
    "slideshow": {
     "slide_type": "slide"
    }
   },
   "source": [
    "## Applying Contrastive Learning to Remote Sensing\n",
    "\n",
    "Let's take a look at an example of applying tile2vec to satellite imagery, and see how it can be used to learn visual representations of the image tiles."
   ]
  },
  {
   "cell_type": "markdown",
   "metadata": {
    "slideshow": {
     "slide_type": "fragment"
    }
   },
   "source": [
    "One of the main focusses in my Lab is better understanding the role of clouds in the climate system. Clouds come in many shapes and sizes, and understanding their properties is crucial for improving climate models and predicting future climate change."
   ]
  },
  {
   "cell_type": "markdown",
   "metadata": {
    "slideshow": {
     "slide_type": "fragment"
    }
   },
   "source": [
    "You might be familiar with different types of clouds, such as cumulus clouds, stratus clouds, and cirrus clouds. Each type of cloud has its own unique properties, such as shape, size, and altitude."
   ]
  },
  {
   "cell_type": "markdown",
   "metadata": {
    "slideshow": {
     "slide_type": "subslide"
    }
   },
   "source": [
    "<center><img src=\"_images/wmo_clouds.jpg\" alt=\"clouds\" width=\"800\"/></center>"
   ]
  },
  {
   "cell_type": "markdown",
   "metadata": {
    "slideshow": {
     "slide_type": "subslide"
    }
   },
   "source": [
    "Only recently though we have started to explore the mesoscale morphology of clouds, which is the structure of clouds at scales of a few kilometers to a few hundred kilometers. This is important because the mesoscale morphology of clouds can have a significant impact on the Earth's energy balance and climate - and we don't really understand what controls it."
   ]
  },
  {
   "cell_type": "markdown",
   "metadata": {
    "slideshow": {
     "slide_type": "fragment"
    }
   },
   "source": [
    "Bjorn Stevens' lab recently published a paper classifying cloud types based on their mesoscale moprhology. He used a large dataset of satellite images of clouds and trained a convolutional neural network to classify the images into different cloud types (using a lot of labeled data)."
   ]
  },
  {
   "cell_type": "markdown",
   "metadata": {
    "slideshow": {
     "slide_type": "subslide"
    }
   },
   "source": [
    "The classes they used were Sugar, Flower, Fish, and Gravel. These are not the traditional cloud types you might be familiar with, but rather the mesoscale morphology of the clouds:\n",
    "\n",
    "<center><img src=\"_images/sugar_gravel_flower_fish.png\" alt=\"clouds\" width=\"700\"/></center>"
   ]
  },
  {
   "cell_type": "markdown",
   "metadata": {
    "slideshow": {
     "slide_type": "fragment"
    }
   },
   "source": [
    "In our Lab we have been using tile2vec on satellite imagery to learn visual representations of the mesoscale morphology of clouds *without* labels. The idea is to learn a representation of the spatial context of the cloud tiles, rather than the content of the tiles themselves."
   ]
  },
  {
   "cell_type": "markdown",
   "metadata": {
    "slideshow": {
     "slide_type": "subslide"
    }
   },
   "source": [
    "We want to capture the important morphological features of the clouds, across a broad range of conditions and scales, so we use a false color representation of the images to highlight the different temperature (and hence altitude) of the clouds.\n",
    "\n",
    "Here is an animations of the kind of data we're using:\n",
    "\n",
    "<center><img src=\"_images/G16_DayNightCloudMicroCombo_240fr_20240528.gif\" alt=\"clouds\" width=\"700\"/></center>"
   ]
  },
  {
   "cell_type": "markdown",
   "metadata": {
    "slideshow": {
     "slide_type": "subslide"
    }
   },
   "source": [
    "We're using a very simple ResNet architecture to learn the representations:\n",
    "\n",
    "<center><img src=\"_images/tile2vec_architecture.png\" alt='architecture' width=700/></center>"
   ]
  },
  {
   "cell_type": "markdown",
   "metadata": {
    "slideshow": {
     "slide_type": "subslide"
    }
   },
   "source": [
    "The key ingredient is how we choose the triplet - we pick a random tile from the training set, a nearby tile from the same image, and a dissimilar tile from a different image. This encodes the fact that we expect spatially nearby tiles to be similar, and distant tiles to different (in terms of the morphology of the clouds)."
   ]
  },
  {
   "cell_type": "markdown",
   "metadata": {
    "slideshow": {
     "slide_type": "fragment"
    }
   },
   "source": [
    "For example:\n",
    "\n",
    "<center><img src=\"_images/example_triplet.png\" alt='triplet' width=700/></center>"
   ]
  },
  {
   "cell_type": "markdown",
   "metadata": {
    "slideshow": {
     "slide_type": "fragment"
    }
   },
   "source": [
    "By training over 900,000 such triplets (and testing on a further 100,000), we can learn a representation of the mesoscale morphology of clouds that can be used for a variety of tasks."
   ]
  },
  {
   "cell_type": "markdown",
   "metadata": {
    "slideshow": {
     "slide_type": "subslide"
    }
   },
   "source": [
    "The first thing we looked at was clustering the representations to see if we could identify different cloud types based on the morphology alone. We used k-means clustering to cluster the representations into distinct clusters, exploring the number of clusters from 9 to 30.\n",
    "\n",
    "Already with N=9 we can see distinct clusters emerging:\n",
    "\n",
    "<center><img src=\"_images/cluster_examples_9.png\" alt='clusters' width=700/></center>"
   ]
  },
  {
   "cell_type": "markdown",
   "metadata": {
    "slideshow": {
     "slide_type": "subslide"
    }
   },
   "source": [
    "We can plot a t-SNE visualization of the representations to see how well the clusters are separated in the embedding space:\n",
    "\n",
    "<center><img src=\"_images/example_tSNE.png\" alt='tsne' width=700/></center>"
   ]
  },
  {
   "cell_type": "markdown",
   "metadata": {
    "slideshow": {
     "slide_type": "subslide"
    }
   },
   "source": [
    "We can also look at how the clusters are located geographically to see if they correspond to different regions of the world:\n",
    "\n",
    "<center><img src=\"_images/cluster_map.png\" alt='map' width=700/></center>"
   ]
  },
  {
   "cell_type": "markdown",
   "metadata": {
    "slideshow": {
     "slide_type": "fragment"
    }
   },
   "source": [
    "As you can see, these initial clusters are primarily based on the altitude of the cloud (based on it's temperature) and the underlying surface  - we need more clusters to capture the full range of cloud types."
   ]
  },
  {
   "cell_type": "markdown",
   "metadata": {
    "slideshow": {
     "slide_type": "subslide"
    }
   },
   "source": [
    "Another cool thing we can do is to find the nearest neighbors of a given tile in the embedding. This is like a reverse image search, where we search for similar images based on their visual content:\n",
    "\n",
    "<center><img src=\"_images/similarity_search.png\" alt='neighbors' width=700/></center>"
   ]
  },
  {
   "cell_type": "markdown",
   "metadata": {
    "slideshow": {
     "slide_type": "subslide"
    }
   },
   "source": [
    "And, even better - we can interpolate between any two tiles in the embedding space to see how the morphology of the clouds changes between them:\n",
    "\n",
    "<center><img src=\"_images/interpolate_between_examples.png\" alt='interpolation' width=800/></center>"
   ]
  },
  {
   "cell_type": "markdown",
   "metadata": {
    "slideshow": {
     "slide_type": "subslide"
    }
   },
   "source": [
    "Finally, we used the learnt model weights as the backbone of a classifier to predict the cloud type based on the morphology of the clouds with a few hundred labeled examples. "
   ]
  },
  {
   "cell_type": "markdown",
   "metadata": {},
   "source": [
    "Using our pre-trained model:\n",
    " - Frozen weights: Accuracy --> 0.4874\n",
    " - Unfrozen weights: Accuracy --> 0.7395\n",
    " \n",
    "Using the off-the-shelf pre-trained ResNet model:\n",
    " - Frozen weights: Accuracy --> 0.5462\n",
    " - Unfrozen weights: Accuracy --> 0.7059"
   ]
  },
  {
   "cell_type": "markdown",
   "metadata": {
    "slideshow": {
     "slide_type": "subslide"
    }
   },
   "source": [
    "### Summary\n",
    "\n",
    "In this lecture, we discussed contrastive learning, a type of self-supervised learning that involves training a model to learn representations of data by contrasting positive and negative examples. We discussed two popular contrastive learning methods: SimCLR and Tile2Vec.\n"
   ]
  },
  {
   "cell_type": "markdown",
   "metadata": {
    "slideshow": {
     "slide_type": "fragment"
    }
   },
   "source": [
    "\n",
    "We also discussed how contrastive learning can be applied to remote sensing data, using the example of learning visual representations of the mesoscale morphology of clouds from satellite imagery. We showed how a tile2vec model trained in such a way can be used for a variety of tasks, such as clustering, similarity search, and classification."
   ]
  },
  {
   "cell_type": "markdown",
   "metadata": {
    "slideshow": {
     "slide_type": "slide"
    }
   },
   "source": [
    "### Next Week: Generative Models\n",
    "\n",
    "Next week we will discuss generative models, which are a type of deep learning model that is used to generate new data samples from a given dataset. \n"
   ]
  },
  {
   "cell_type": "markdown",
   "metadata": {
    "slideshow": {
     "slide_type": "fragment"
    }
   },
   "source": [
    "\n",
    "They differ from the deterministic models we have discussed so far, which are used to make predictions based on the input data. Generative models are used to generate new data samples that are similar to the training data by learning the underlying probabalistic distribution of the data.\n"
   ]
  },
  {
   "cell_type": "markdown",
   "metadata": {
    "slideshow": {
     "slide_type": "fragment"
    }
   },
   "source": [
    "\n",
    "We will discuss two popular generative models: Generative Adversarial Networks (GANs) and Variational Autoencoders (VAEs)."
   ]
  }
 ],
 "metadata": {
  "celltoolbar": "Slideshow",
  "kernelspec": {
   "display_name": "Python 3 (ipykernel)",
   "language": "python",
   "name": "python3"
  },
  "language_info": {
   "codemirror_mode": {
    "name": "ipython",
    "version": 3
   },
   "file_extension": ".py",
   "mimetype": "text/x-python",
   "name": "python",
   "nbconvert_exporter": "python",
   "pygments_lexer": "ipython3",
   "version": "3.10.9"
  }
 },
 "nbformat": 4,
 "nbformat_minor": 2
}
