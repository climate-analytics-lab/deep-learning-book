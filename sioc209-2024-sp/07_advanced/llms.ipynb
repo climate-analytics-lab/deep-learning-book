{
 "cells": [
  {
   "cell_type": "markdown",
   "id": "c18b8036",
   "metadata": {},
   "source": [
    "# Large Language Models"
   ]
  },
  {
   "cell_type": "markdown",
   "id": "5c7dc906",
   "metadata": {},
   "source": [
    "Coming soon!"
   ]
  },
  {
   "cell_type": "markdown",
   "id": "a3b84b1a",
   "metadata": {},
   "source": []
  }
 ],
 "metadata": {
  "language_info": {
   "name": "python"
  }
 },
 "nbformat": 4,
 "nbformat_minor": 5
}
