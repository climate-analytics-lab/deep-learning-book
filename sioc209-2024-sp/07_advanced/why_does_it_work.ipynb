{
 "cells": [
  {
   "cell_type": "markdown",
   "id": "0579b37e",
   "metadata": {},
   "source": [
    "# Why does Deep Learning Work?!"
   ]
  },
  {
   "cell_type": "markdown",
   "id": "ed5b60f5",
   "metadata": {},
   "source": [
    "See Chapter 20 from Understanding Deep Learning"
   ]
  },
  {
   "cell_type": "markdown",
   "id": "66969842",
   "metadata": {},
   "source": []
  }
 ],
 "metadata": {
  "language_info": {
   "name": "python"
  }
 },
 "nbformat": 4,
 "nbformat_minor": 5
}
