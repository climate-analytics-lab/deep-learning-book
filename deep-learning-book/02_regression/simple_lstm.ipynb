{
 "cells": [
  {
   "cell_type": "markdown",
   "id": "11039f1c-8e2d-4b19-9051-a491130fc0e5",
   "metadata": {},
   "source": [
    "### Simple LSTM regression with Tensorflow"
   ]
  },
  {
   "cell_type": "code",
   "execution_count": 1,
   "id": "871f8414-cd5f-4267-b4b8-be67cc780854",
   "metadata": {},
   "outputs": [],
   "source": [
    "import matplotlib.pyplot as plt\n",
    "import numpy as np\n",
    "\n",
    "from sklearn.model_selection import train_test_split\n",
    "from sklearn.datasets import fetch_openml"
   ]
  },
  {
   "cell_type": "markdown",
   "id": "d89adce7-39db-4863-952d-9738ffecf901",
   "metadata": {
    "tags": []
   },
   "source": [
    "### Data preprocessing"
   ]
  },
  {
   "cell_type": "code",
   "execution_count": 3,
   "id": "9d9c7b40",
   "metadata": {},
   "outputs": [],
   "source": [
    "co2 = fetch_openml(data_id=41187, as_frame=True)\n",
    "dataset = co2.frame[['co2']]\n",
    "\n",
    "# Min/Max scaling\n",
    "dataset_max = dataset.max().values\n",
    "dataset_min = dataset.min().values\n",
    "\n",
    "def unscale(dataset):\n",
    "    return dataset * (dataset_max - dataset_min) + dataset_min\n",
    "\n",
    "def scale(dataset):\n",
    "    return (dataset - dataset_min) / (dataset_max - dataset_min)\n",
    "\n",
    "dataset = scale(dataset)"
   ]
  },
  {
   "cell_type": "code",
   "execution_count": 4,
   "id": "64f138fb",
   "metadata": {},
   "outputs": [],
   "source": [
    "train, test = train_test_split(dataset, test_size=0.1, shuffle=False)"
   ]
  },
  {
   "cell_type": "code",
   "execution_count": 5,
   "id": "97bbf1e8",
   "metadata": {},
   "outputs": [],
   "source": [
    "window_size = 12"
   ]
  },
  {
   "cell_type": "code",
   "execution_count": 10,
   "id": "865e111b",
   "metadata": {},
   "outputs": [
    {
     "data": {
      "text/html": [
       "<div>\n",
       "<style scoped>\n",
       "    .dataframe tbody tr th:only-of-type {\n",
       "        vertical-align: middle;\n",
       "    }\n",
       "\n",
       "    .dataframe tbody tr th {\n",
       "        vertical-align: top;\n",
       "    }\n",
       "\n",
       "    .dataframe thead th {\n",
       "        text-align: right;\n",
       "    }\n",
       "</style>\n",
       "<table border=\"1\" class=\"dataframe\">\n",
       "  <thead>\n",
       "    <tr style=\"text-align: right;\">\n",
       "      <th></th>\n",
       "      <th>co2_0</th>\n",
       "      <th>co2_1</th>\n",
       "      <th>co2_2</th>\n",
       "      <th>co2_3</th>\n",
       "      <th>co2_4</th>\n",
       "      <th>co2_5</th>\n",
       "      <th>co2_6</th>\n",
       "      <th>co2_7</th>\n",
       "      <th>co2_8</th>\n",
       "      <th>co2_9</th>\n",
       "      <th>co2_10</th>\n",
       "      <th>co2_11</th>\n",
       "    </tr>\n",
       "  </thead>\n",
       "  <tbody>\n",
       "    <tr>\n",
       "      <th>11</th>\n",
       "      <td>0.041051</td>\n",
       "      <td>0.039409</td>\n",
       "      <td>0.045977</td>\n",
       "      <td>0.045977</td>\n",
       "      <td>0.080460</td>\n",
       "      <td>0.073892</td>\n",
       "      <td>0.064039</td>\n",
       "      <td>0.055829</td>\n",
       "      <td>0.073892</td>\n",
       "      <td>0.075534</td>\n",
       "      <td>0.070608</td>\n",
       "      <td>0.050903</td>\n",
       "    </tr>\n",
       "    <tr>\n",
       "      <th>12</th>\n",
       "      <td>0.042693</td>\n",
       "      <td>0.041051</td>\n",
       "      <td>0.039409</td>\n",
       "      <td>0.045977</td>\n",
       "      <td>0.045977</td>\n",
       "      <td>0.080460</td>\n",
       "      <td>0.073892</td>\n",
       "      <td>0.064039</td>\n",
       "      <td>0.055829</td>\n",
       "      <td>0.073892</td>\n",
       "      <td>0.075534</td>\n",
       "      <td>0.070608</td>\n",
       "    </tr>\n",
       "    <tr>\n",
       "      <th>13</th>\n",
       "      <td>0.034483</td>\n",
       "      <td>0.042693</td>\n",
       "      <td>0.041051</td>\n",
       "      <td>0.039409</td>\n",
       "      <td>0.045977</td>\n",
       "      <td>0.045977</td>\n",
       "      <td>0.080460</td>\n",
       "      <td>0.073892</td>\n",
       "      <td>0.064039</td>\n",
       "      <td>0.055829</td>\n",
       "      <td>0.073892</td>\n",
       "      <td>0.075534</td>\n",
       "    </tr>\n",
       "    <tr>\n",
       "      <th>14</th>\n",
       "      <td>0.032841</td>\n",
       "      <td>0.034483</td>\n",
       "      <td>0.042693</td>\n",
       "      <td>0.041051</td>\n",
       "      <td>0.039409</td>\n",
       "      <td>0.045977</td>\n",
       "      <td>0.045977</td>\n",
       "      <td>0.080460</td>\n",
       "      <td>0.073892</td>\n",
       "      <td>0.064039</td>\n",
       "      <td>0.055829</td>\n",
       "      <td>0.073892</td>\n",
       "    </tr>\n",
       "    <tr>\n",
       "      <th>15</th>\n",
       "      <td>0.018062</td>\n",
       "      <td>0.032841</td>\n",
       "      <td>0.034483</td>\n",
       "      <td>0.042693</td>\n",
       "      <td>0.041051</td>\n",
       "      <td>0.039409</td>\n",
       "      <td>0.045977</td>\n",
       "      <td>0.045977</td>\n",
       "      <td>0.080460</td>\n",
       "      <td>0.073892</td>\n",
       "      <td>0.064039</td>\n",
       "      <td>0.055829</td>\n",
       "    </tr>\n",
       "    <tr>\n",
       "      <th>...</th>\n",
       "      <td>...</td>\n",
       "      <td>...</td>\n",
       "      <td>...</td>\n",
       "      <td>...</td>\n",
       "      <td>...</td>\n",
       "      <td>...</td>\n",
       "      <td>...</td>\n",
       "      <td>...</td>\n",
       "      <td>...</td>\n",
       "      <td>...</td>\n",
       "      <td>...</td>\n",
       "      <td>...</td>\n",
       "    </tr>\n",
       "    <tr>\n",
       "      <th>1997</th>\n",
       "      <td>0.796388</td>\n",
       "      <td>0.814450</td>\n",
       "      <td>0.825944</td>\n",
       "      <td>0.825944</td>\n",
       "      <td>0.834154</td>\n",
       "      <td>0.839080</td>\n",
       "      <td>0.847291</td>\n",
       "      <td>0.853859</td>\n",
       "      <td>0.855501</td>\n",
       "      <td>0.862069</td>\n",
       "      <td>0.863711</td>\n",
       "      <td>0.865353</td>\n",
       "    </tr>\n",
       "    <tr>\n",
       "      <th>1998</th>\n",
       "      <td>0.798030</td>\n",
       "      <td>0.796388</td>\n",
       "      <td>0.814450</td>\n",
       "      <td>0.825944</td>\n",
       "      <td>0.825944</td>\n",
       "      <td>0.834154</td>\n",
       "      <td>0.839080</td>\n",
       "      <td>0.847291</td>\n",
       "      <td>0.853859</td>\n",
       "      <td>0.855501</td>\n",
       "      <td>0.862069</td>\n",
       "      <td>0.863711</td>\n",
       "    </tr>\n",
       "    <tr>\n",
       "      <th>1999</th>\n",
       "      <td>0.781609</td>\n",
       "      <td>0.798030</td>\n",
       "      <td>0.796388</td>\n",
       "      <td>0.814450</td>\n",
       "      <td>0.825944</td>\n",
       "      <td>0.825944</td>\n",
       "      <td>0.834154</td>\n",
       "      <td>0.839080</td>\n",
       "      <td>0.847291</td>\n",
       "      <td>0.853859</td>\n",
       "      <td>0.855501</td>\n",
       "      <td>0.862069</td>\n",
       "    </tr>\n",
       "    <tr>\n",
       "      <th>2000</th>\n",
       "      <td>0.775041</td>\n",
       "      <td>0.781609</td>\n",
       "      <td>0.798030</td>\n",
       "      <td>0.796388</td>\n",
       "      <td>0.814450</td>\n",
       "      <td>0.825944</td>\n",
       "      <td>0.825944</td>\n",
       "      <td>0.834154</td>\n",
       "      <td>0.839080</td>\n",
       "      <td>0.847291</td>\n",
       "      <td>0.853859</td>\n",
       "      <td>0.855501</td>\n",
       "    </tr>\n",
       "    <tr>\n",
       "      <th>2001</th>\n",
       "      <td>0.771757</td>\n",
       "      <td>0.775041</td>\n",
       "      <td>0.781609</td>\n",
       "      <td>0.798030</td>\n",
       "      <td>0.796388</td>\n",
       "      <td>0.814450</td>\n",
       "      <td>0.825944</td>\n",
       "      <td>0.825944</td>\n",
       "      <td>0.834154</td>\n",
       "      <td>0.839080</td>\n",
       "      <td>0.847291</td>\n",
       "      <td>0.853859</td>\n",
       "    </tr>\n",
       "  </tbody>\n",
       "</table>\n",
       "<p>1991 rows × 12 columns</p>\n",
       "</div>"
      ],
      "text/plain": [
       "         co2_0     co2_1     co2_2     co2_3     co2_4     co2_5     co2_6  \\\n",
       "11    0.041051  0.039409  0.045977  0.045977  0.080460  0.073892  0.064039   \n",
       "12    0.042693  0.041051  0.039409  0.045977  0.045977  0.080460  0.073892   \n",
       "13    0.034483  0.042693  0.041051  0.039409  0.045977  0.045977  0.080460   \n",
       "14    0.032841  0.034483  0.042693  0.041051  0.039409  0.045977  0.045977   \n",
       "15    0.018062  0.032841  0.034483  0.042693  0.041051  0.039409  0.045977   \n",
       "...        ...       ...       ...       ...       ...       ...       ...   \n",
       "1997  0.796388  0.814450  0.825944  0.825944  0.834154  0.839080  0.847291   \n",
       "1998  0.798030  0.796388  0.814450  0.825944  0.825944  0.834154  0.839080   \n",
       "1999  0.781609  0.798030  0.796388  0.814450  0.825944  0.825944  0.834154   \n",
       "2000  0.775041  0.781609  0.798030  0.796388  0.814450  0.825944  0.825944   \n",
       "2001  0.771757  0.775041  0.781609  0.798030  0.796388  0.814450  0.825944   \n",
       "\n",
       "         co2_7     co2_8     co2_9    co2_10    co2_11  \n",
       "11    0.055829  0.073892  0.075534  0.070608  0.050903  \n",
       "12    0.064039  0.055829  0.073892  0.075534  0.070608  \n",
       "13    0.073892  0.064039  0.055829  0.073892  0.075534  \n",
       "14    0.080460  0.073892  0.064039  0.055829  0.073892  \n",
       "15    0.045977  0.080460  0.073892  0.064039  0.055829  \n",
       "...        ...       ...       ...       ...       ...  \n",
       "1997  0.853859  0.855501  0.862069  0.863711  0.865353  \n",
       "1998  0.847291  0.853859  0.855501  0.862069  0.863711  \n",
       "1999  0.839080  0.847291  0.853859  0.855501  0.862069  \n",
       "2000  0.834154  0.839080  0.847291  0.853859  0.855501  \n",
       "2001  0.825944  0.834154  0.839080  0.847291  0.853859  \n",
       "\n",
       "[1991 rows x 12 columns]"
      ]
     },
     "execution_count": 10,
     "metadata": {},
     "output_type": "execute_result"
    }
   ],
   "source": [
    "train.shift(periods=range(window_size)).dropna()"
   ]
  },
  {
   "cell_type": "code",
   "execution_count": 13,
   "id": "24830b88",
   "metadata": {},
   "outputs": [],
   "source": [
    "_train_shifts = train.shift(periods=range(window_size)).dropna()\n",
    "_test_shifts = test.shift(periods=range(window_size)).dropna()\n",
    "\n",
    "X_train, Y_train = _train_shifts[['co2_1', 'co2_2', 'co2_3']], _train_shifts[['co2_0']]\n",
    "X_test, Y_test = _test_shifts[['co2_1', 'co2_2', 'co2_3']], _test_shifts[['co2_0']]"
   ]
  },
  {
   "cell_type": "markdown",
   "id": "28b81718-71f5-4a6a-8f79-5ce37dc87ef5",
   "metadata": {
    "tags": []
   },
   "source": [
    "### Model building/hyperparameter tuning"
   ]
  },
  {
   "cell_type": "code",
   "execution_count": 17,
   "id": "8aac21a9",
   "metadata": {},
   "outputs": [
    {
     "name": "stderr",
     "output_type": "stream",
     "text": [
      "/Users/watson-parris/miniconda3/envs/sio209_dev/lib/python3.10/site-packages/keras/src/layers/rnn/rnn.py:204: UserWarning: Do not pass an `input_shape`/`input_dim` argument to a layer. When using Sequential models, prefer using an `Input(shape)` object as the first layer in the model instead.\n",
      "  super().__init__(**kwargs)\n"
     ]
    },
    {
     "data": {
      "text/html": [
       "<pre style=\"white-space:pre;overflow-x:auto;line-height:normal;font-family:Menlo,'DejaVu Sans Mono',consolas,'Courier New',monospace\"><span style=\"font-weight: bold\">Model: \"sequential_1\"</span>\n",
       "</pre>\n"
      ],
      "text/plain": [
       "\u001b[1mModel: \"sequential_1\"\u001b[0m\n"
      ]
     },
     "metadata": {},
     "output_type": "display_data"
    },
    {
     "data": {
      "text/html": [
       "<pre style=\"white-space:pre;overflow-x:auto;line-height:normal;font-family:Menlo,'DejaVu Sans Mono',consolas,'Courier New',monospace\">┏━━━━━━━━━━━━━━━━━━━━━━━━━━━━━━━━━┳━━━━━━━━━━━━━━━━━━━━━━━━┳━━━━━━━━━━━━━━━┓\n",
       "┃<span style=\"font-weight: bold\"> Layer (type)                    </span>┃<span style=\"font-weight: bold\"> Output Shape           </span>┃<span style=\"font-weight: bold\">       Param # </span>┃\n",
       "┡━━━━━━━━━━━━━━━━━━━━━━━━━━━━━━━━━╇━━━━━━━━━━━━━━━━━━━━━━━━╇━━━━━━━━━━━━━━━┩\n",
       "│ lstm_1 (<span style=\"color: #0087ff; text-decoration-color: #0087ff\">LSTM</span>)                   │ (<span style=\"color: #00d7ff; text-decoration-color: #00d7ff\">None</span>, <span style=\"color: #00af00; text-decoration-color: #00af00\">10</span>)             │           <span style=\"color: #00af00; text-decoration-color: #00af00\">560</span> │\n",
       "├─────────────────────────────────┼────────────────────────┼───────────────┤\n",
       "│ dense_1 (<span style=\"color: #0087ff; text-decoration-color: #0087ff\">Dense</span>)                 │ (<span style=\"color: #00d7ff; text-decoration-color: #00d7ff\">None</span>, <span style=\"color: #00af00; text-decoration-color: #00af00\">1</span>)              │            <span style=\"color: #00af00; text-decoration-color: #00af00\">11</span> │\n",
       "└─────────────────────────────────┴────────────────────────┴───────────────┘\n",
       "</pre>\n"
      ],
      "text/plain": [
       "┏━━━━━━━━━━━━━━━━━━━━━━━━━━━━━━━━━┳━━━━━━━━━━━━━━━━━━━━━━━━┳━━━━━━━━━━━━━━━┓\n",
       "┃\u001b[1m \u001b[0m\u001b[1mLayer (type)                   \u001b[0m\u001b[1m \u001b[0m┃\u001b[1m \u001b[0m\u001b[1mOutput Shape          \u001b[0m\u001b[1m \u001b[0m┃\u001b[1m \u001b[0m\u001b[1m      Param #\u001b[0m\u001b[1m \u001b[0m┃\n",
       "┡━━━━━━━━━━━━━━━━━━━━━━━━━━━━━━━━━╇━━━━━━━━━━━━━━━━━━━━━━━━╇━━━━━━━━━━━━━━━┩\n",
       "│ lstm_1 (\u001b[38;5;33mLSTM\u001b[0m)                   │ (\u001b[38;5;45mNone\u001b[0m, \u001b[38;5;34m10\u001b[0m)             │           \u001b[38;5;34m560\u001b[0m │\n",
       "├─────────────────────────────────┼────────────────────────┼───────────────┤\n",
       "│ dense_1 (\u001b[38;5;33mDense\u001b[0m)                 │ (\u001b[38;5;45mNone\u001b[0m, \u001b[38;5;34m1\u001b[0m)              │            \u001b[38;5;34m11\u001b[0m │\n",
       "└─────────────────────────────────┴────────────────────────┴───────────────┘\n"
      ]
     },
     "metadata": {},
     "output_type": "display_data"
    },
    {
     "data": {
      "text/html": [
       "<pre style=\"white-space:pre;overflow-x:auto;line-height:normal;font-family:Menlo,'DejaVu Sans Mono',consolas,'Courier New',monospace\"><span style=\"font-weight: bold\"> Total params: </span><span style=\"color: #00af00; text-decoration-color: #00af00\">571</span> (2.23 KB)\n",
       "</pre>\n"
      ],
      "text/plain": [
       "\u001b[1m Total params: \u001b[0m\u001b[38;5;34m571\u001b[0m (2.23 KB)\n"
      ]
     },
     "metadata": {},
     "output_type": "display_data"
    },
    {
     "data": {
      "text/html": [
       "<pre style=\"white-space:pre;overflow-x:auto;line-height:normal;font-family:Menlo,'DejaVu Sans Mono',consolas,'Courier New',monospace\"><span style=\"font-weight: bold\"> Trainable params: </span><span style=\"color: #00af00; text-decoration-color: #00af00\">571</span> (2.23 KB)\n",
       "</pre>\n"
      ],
      "text/plain": [
       "\u001b[1m Trainable params: \u001b[0m\u001b[38;5;34m571\u001b[0m (2.23 KB)\n"
      ]
     },
     "metadata": {},
     "output_type": "display_data"
    },
    {
     "data": {
      "text/html": [
       "<pre style=\"white-space:pre;overflow-x:auto;line-height:normal;font-family:Menlo,'DejaVu Sans Mono',consolas,'Courier New',monospace\"><span style=\"font-weight: bold\"> Non-trainable params: </span><span style=\"color: #00af00; text-decoration-color: #00af00\">0</span> (0.00 B)\n",
       "</pre>\n"
      ],
      "text/plain": [
       "\u001b[1m Non-trainable params: \u001b[0m\u001b[38;5;34m0\u001b[0m (0.00 B)\n"
      ]
     },
     "metadata": {},
     "output_type": "display_data"
    }
   ],
   "source": [
    "from keras.models import Sequential\n",
    "from keras.layers import Dense, LSTM\n",
    "\n",
    "model = Sequential()\n",
    "model.add(LSTM(10, activation='tanh', input_shape=(1, 3))) #Note using tanh is much quicker because it's using CuDNN underneath\n",
    "model.add(Dense(1))\n",
    "model.compile(optimizer='adam', loss='mse')\n",
    "model.summary()"
   ]
  },
  {
   "cell_type": "code",
   "execution_count": 18,
   "id": "9309e686-07e6-4f46-8fb5-8c41801ad094",
   "metadata": {},
   "outputs": [
    {
     "name": "stdout",
     "output_type": "stream",
     "text": [
      "Epoch 1/30\n"
     ]
    },
    {
     "name": "stderr",
     "output_type": "stream",
     "text": [
      "2024-04-22 14:44:06.003248: E tensorflow/core/grappler/optimizers/meta_optimizer.cc:961] PluggableGraphOptimizer failed: INVALID_ARGUMENT: Failed to deserialize the `graph_buf`.\n"
     ]
    },
    {
     "name": "stdout",
     "output_type": "stream",
     "text": [
      "50/50 - 1s - 20ms/step - loss: 0.0822 - val_loss: 0.2631\n",
      "Epoch 2/30\n",
      "50/50 - 0s - 6ms/step - loss: 0.0267 - val_loss: 0.1049\n",
      "Epoch 3/30\n",
      "50/50 - 0s - 6ms/step - loss: 0.0109 - val_loss: 0.0470\n",
      "Epoch 4/30\n",
      "50/50 - 0s - 6ms/step - loss: 0.0076 - val_loss: 0.0301\n",
      "Epoch 5/30\n",
      "50/50 - 0s - 6ms/step - loss: 0.0056 - val_loss: 0.0207\n",
      "Epoch 6/30\n",
      "50/50 - 0s - 6ms/step - loss: 0.0039 - val_loss: 0.0127\n",
      "Epoch 7/30\n",
      "50/50 - 0s - 6ms/step - loss: 0.0025 - val_loss: 0.0079\n",
      "Epoch 8/30\n",
      "50/50 - 0s - 6ms/step - loss: 0.0015 - val_loss: 0.0041\n",
      "Epoch 9/30\n",
      "50/50 - 0s - 6ms/step - loss: 8.8981e-04 - val_loss: 0.0017\n",
      "Epoch 10/30\n",
      "50/50 - 0s - 6ms/step - loss: 5.1186e-04 - val_loss: 7.5241e-04\n",
      "Epoch 11/30\n",
      "50/50 - 0s - 6ms/step - loss: 3.1274e-04 - val_loss: 3.1095e-04\n",
      "Epoch 12/30\n",
      "50/50 - 0s - 6ms/step - loss: 2.1728e-04 - val_loss: 1.6861e-04\n",
      "Epoch 13/30\n",
      "50/50 - 0s - 6ms/step - loss: 1.7735e-04 - val_loss: 1.4574e-04\n",
      "Epoch 14/30\n",
      "50/50 - 0s - 6ms/step - loss: 1.6060e-04 - val_loss: 1.5913e-04\n",
      "Epoch 15/30\n",
      "50/50 - 0s - 6ms/step - loss: 1.5458e-04 - val_loss: 1.8040e-04\n",
      "Epoch 16/30\n",
      "50/50 - 0s - 6ms/step - loss: 1.5215e-04 - val_loss: 1.6722e-04\n",
      "Epoch 17/30\n",
      "50/50 - 0s - 6ms/step - loss: 1.5091e-04 - val_loss: 2.0908e-04\n",
      "Epoch 18/30\n",
      "50/50 - 0s - 6ms/step - loss: 1.4990e-04 - val_loss: 1.8430e-04\n",
      "Epoch 19/30\n",
      "50/50 - 0s - 6ms/step - loss: 1.4852e-04 - val_loss: 1.7794e-04\n",
      "Epoch 20/30\n",
      "50/50 - 0s - 6ms/step - loss: 1.4776e-04 - val_loss: 1.6813e-04\n",
      "Epoch 21/30\n",
      "50/50 - 0s - 6ms/step - loss: 1.4665e-04 - val_loss: 1.6927e-04\n",
      "Epoch 22/30\n",
      "50/50 - 0s - 6ms/step - loss: 1.4520e-04 - val_loss: 1.7106e-04\n",
      "Epoch 23/30\n",
      "50/50 - 0s - 6ms/step - loss: 1.4417e-04 - val_loss: 1.6486e-04\n",
      "Epoch 24/30\n",
      "50/50 - 0s - 6ms/step - loss: 1.4364e-04 - val_loss: 1.5169e-04\n",
      "Epoch 25/30\n",
      "50/50 - 0s - 6ms/step - loss: 1.4283e-04 - val_loss: 1.6388e-04\n",
      "Epoch 26/30\n",
      "50/50 - 0s - 6ms/step - loss: 1.4136e-04 - val_loss: 1.4619e-04\n",
      "Epoch 27/30\n",
      "50/50 - 0s - 6ms/step - loss: 1.4063e-04 - val_loss: 1.5214e-04\n",
      "Epoch 28/30\n",
      "50/50 - 0s - 6ms/step - loss: 1.3896e-04 - val_loss: 1.5028e-04\n",
      "Epoch 29/30\n",
      "50/50 - 0s - 6ms/step - loss: 1.3820e-04 - val_loss: 1.5206e-04\n",
      "Epoch 30/30\n",
      "50/50 - 0s - 6ms/step - loss: 1.3742e-04 - val_loss: 1.5496e-04\n"
     ]
    }
   ],
   "source": [
    "batch_size = 128\n",
    "epochs = 30\n",
    "\n",
    "history = model.fit(X_train.values[:, np.newaxis, :], Y_train.values, validation_split=0.2, epochs=epochs, verbose=2)"
   ]
  },
  {
   "cell_type": "markdown",
   "id": "9158f3f1-ad00-4d84-9457-de05eed97026",
   "metadata": {},
   "source": [
    "### Evaluation and comparison with linear approach"
   ]
  },
  {
   "cell_type": "code",
   "execution_count": 19,
   "id": "3cedfda4",
   "metadata": {},
   "outputs": [
    {
     "name": "stdout",
     "output_type": "stream",
     "text": [
      "\u001b[1m63/63\u001b[0m \u001b[32m━━━━━━━━━━━━━━━━━━━━\u001b[0m\u001b[37m\u001b[0m \u001b[1m0s\u001b[0m 2ms/step\n",
      "\u001b[1m7/7\u001b[0m \u001b[32m━━━━━━━━━━━━━━━━━━━━\u001b[0m\u001b[37m\u001b[0m \u001b[1m0s\u001b[0m 2ms/step\n"
     ]
    }
   ],
   "source": [
    "# CNN validation predictions\n",
    "train_preds = model.predict(X_train.values[:, np.newaxis, :])\n",
    "test_preds = model.predict(X_test.values[:, np.newaxis, :])"
   ]
  },
  {
   "cell_type": "code",
   "execution_count": 20,
   "id": "06a6a7a8-64df-4e5a-8355-cb74e724fa02",
   "metadata": {},
   "outputs": [
    {
     "data": {
      "text/plain": [
       "<matplotlib.legend.Legend at 0x34a972bf0>"
      ]
     },
     "execution_count": 20,
     "metadata": {},
     "output_type": "execute_result"
    },
    {
     "data": {
      "image/png": "[encoded data removed]",
      "text/plain": [
       "<Figure size 640x480 with 1 Axes>"
      ]
     },
     "metadata": {},
     "output_type": "display_data"
    }
   ],
   "source": [
    "plt.plot(unscale(Y_train), color=\"black\", linestyle=\"dashed\", label=\"Measurements\")\n",
    "plt.plot(unscale(Y_test), color=\"black\", linestyle=\"dashed\")\n",
    "plt.plot(_test_shifts.index, unscale(test_preds), color=\"tab:red\", alpha=0.4, label=\"LSTM test\")\n",
    "plt.plot(_train_shifts.index, unscale(train_preds), color=\"tab:blue\", alpha=0.4, label=\"LSTM train\")\n",
    "plt.setp(plt.gca(), xlabel=\"Year\", ylabel=\"Monthly average of CO$_2$ concentration (ppm)\", title=\"Monthly average of air samples measurements\\nfrom the Mauna Loa Observatory\")\n",
    "plt.legend()"
   ]
  },
  {
   "cell_type": "code",
   "execution_count": null,
   "id": "d301b125",
   "metadata": {},
   "outputs": [],
   "source": []
  }
 ],
 "metadata": {
  "kernelspec": {
   "display_name": "Python 3 (ipykernel)",
   "language": "python",
   "name": "python3"
  },
  "language_info": {
   "codemirror_mode": {
    "name": "ipython",
    "version": 3
   },
   "file_extension": ".py",
   "mimetype": "text/x-python",
   "name": "python",
   "nbconvert_exporter": "python",
   "pygments_lexer": "ipython3",
   "version": "3.10.14"
  }
 },
 "nbformat": 4,
 "nbformat_minor": 5
}
