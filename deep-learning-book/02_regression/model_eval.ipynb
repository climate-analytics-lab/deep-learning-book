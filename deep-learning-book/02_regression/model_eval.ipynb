{
 "cells": [
  {
   "cell_type": "markdown",
   "id": "a1e6f7a4",
   "metadata": {},
   "source": [
    "# Model Evaluation and Validation"
   ]
  },
  {
   "cell_type": "markdown",
   "id": "4ed78b03",
   "metadata": {},
   "source": []
  }
 ],
 "metadata": {
  "language_info": {
   "name": "python"
  }
 },
 "nbformat": 4,
 "nbformat_minor": 5
}
