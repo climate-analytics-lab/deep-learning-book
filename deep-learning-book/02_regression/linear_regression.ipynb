{
 "cells": [
  {
   "cell_type": "markdown",
   "id": "a06e1541",
   "metadata": {},
   "source": [
    "# Linear Regression Recap"
   ]
  },
  {
   "cell_type": "markdown",
   "id": "9508cd39",
   "metadata": {},
   "source": []
  }
 ],
 "metadata": {
  "language_info": {
   "name": "python"
  }
 },
 "nbformat": 4,
 "nbformat_minor": 5
}
