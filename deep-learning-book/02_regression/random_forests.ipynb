{
 "cells": [
  {
   "cell_type": "markdown",
   "id": "6e0a19a2",
   "metadata": {},
   "source": [
    "# Random Forests"
   ]
  },
  {
   "cell_type": "markdown",
   "id": "99f3c403",
   "metadata": {},
   "source": [
    "As with GPs, Random Forests are not really 'deep learning' but provide another family of regression model you may not have come across. They are most useful when interpretation of the sensitivities is useful, particularly when combined with Shapley value analysis, and when inputs are highly correlated."
   ]
  },
  {
   "cell_type": "markdown",
   "id": "9bc99c49",
   "metadata": {},
   "source": []
  }
 ],
 "metadata": {
  "language_info": {
   "name": "python"
  }
 },
 "nbformat": 4,
 "nbformat_minor": 5
}
