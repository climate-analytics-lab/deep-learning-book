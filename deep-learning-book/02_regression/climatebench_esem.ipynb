{
 "cells": [
  {
   "cell_type": "markdown",
   "id": "c820eeec",
   "metadata": {},
   "source": [
    "# ClimateBench exercises"
   ]
  },
  {
   "cell_type": "markdown",
   "id": "7aebdb66",
   "metadata": {},
   "source": []
  }
 ],
 "metadata": {
  "language_info": {
   "name": "python"
  }
 },
 "nbformat": 4,
 "nbformat_minor": 5
}
