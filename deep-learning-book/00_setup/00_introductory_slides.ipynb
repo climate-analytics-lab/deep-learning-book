{
 "cells": [
  {
   "cell_type": "markdown",
   "metadata": {
    "editable": true,
    "slideshow": {
     "slide_type": "slide"
    },
    "tags": []
   },
   "source": [
    "# Welcome to SIO(C) 209 \n",
    "# Deep Learning for Geo and Environmental Science\n",
    "\n",
    "<center><img src=\"../logo_2.png\" alt=\"logo\" width=\"600\"/></center>\n",
    "*Created with ChapGPT"
   ]
  },
  {
   "cell_type": "markdown",
   "metadata": {
    "editable": true,
    "slideshow": {
     "slide_type": "slide"
    },
    "tags": []
   },
   "source": [
    "## Deep learning is transforming science\n",
    "\n",
    "<center><img src=\"_images/ML_explosion.png\" alt=\"ML explosion\"/></center>"
   ]
  },
  {
   "cell_type": "markdown",
   "metadata": {
    "editable": true,
    "slideshow": {
     "slide_type": "slide"
    },
    "tags": []
   },
   "source": [
    "## ... and our fields are no different\n",
    "\n",
    "<center><img src=\"_images/weather_models.png\" alt=\"advances in ML weather models\"/></center>"
   ]
  },
  {
   "cell_type": "markdown",
   "metadata": {
    "editable": true,
    "slideshow": {
     "slide_type": "slide"
    },
    "tags": []
   },
   "source": [
    "# Deep Learning for Geo and Environmental Science"
   ]
  },
  {
   "cell_type": "markdown",
   "metadata": {
    "editable": true,
    "slideshow": {
     "slide_type": "fragment"
    },
    "tags": []
   },
   "source": [
    " - This hands-on course will introduce you to the application of deep learning techniques in the field of environmental sciences. \n",
    " - It covers the main classes of supervised and unsupervised machine learning algorithms and provides practical experience in training and validating real-world models. \n",
    " - You will gain the skills necessary to analyze environmental data, make predictions, and uncover hidden patterns!"
   ]
  },
  {
   "cell_type": "markdown",
   "metadata": {
    "editable": true,
    "slideshow": {
     "slide_type": "slide"
    },
    "tags": []
   },
   "source": [
    "### Prerequisites \n",
    "\n",
    "This is not an 'introduction to ML' course. I'll assume you have:\n",
    " - Prior knowledge of machine learning fundamentals, including linear algebra, gradient descent and backpropagation. \n",
    " - Basic programming skills (e.g., Python"
   ]
  },
  {
   "cell_type": "markdown",
   "metadata": {
    "editable": true,
    "slideshow": {
     "slide_type": "slide"
    },
    "tags": []
   },
   "source": [
    "\n",
    "### Course Objectives\n",
    "By the end of the course, you should be able to:\n",
    " - Understand the principles of machine learning and its applications in environmental sciences.\n",
    " - Apply supervised and unsupervised machine learning techniques to environmental data.\n",
    " - Evaluate and validate machine learning models using appropriate metrics.\n",
    " - Interpret and communicate results effectively.\n",
    " - Develop proficiency in using machine learning libraries and tools in Python.\n"
   ]
  },
  {
   "cell_type": "markdown",
   "metadata": {
    "editable": true,
    "slideshow": {
     "slide_type": "subslide"
    },
    "tags": []
   },
   "source": [
    "### Course Objectives - specifics\n",
    "\n",
    "Specifically, we will cover:\n",
    "- Preparing your data for machine learning\n",
    "- Choosing a model to use\n",
    "- Basic introduction to different classes of models:\n",
    "  - Deep Neural Networks\n",
    "  - Gaussian processes\n",
    "  - Tree based models\n",
    "- Fine tuning / hyper parameter estimation for specific example tasks"
   ]
  },
  {
   "cell_type": "markdown",
   "metadata": {
    "editable": true,
    "slideshow": {
     "slide_type": "subslide"
    },
    "tags": []
   },
   "source": [
    "### Course Objectives - extras\n",
    "\n",
    "If we have time, we will also cover:\n",
    " - Generative models\n",
    " - Large language models\n",
    " - A deep dive on *why* these models work at all"
   ]
  },
  {
   "cell_type": "markdown",
   "metadata": {
    "editable": true,
    "slideshow": {
     "slide_type": "subslide"
    },
    "tags": []
   },
   "source": [
    "### Course Objectives - not covering \n",
    "\n",
    "For the avoidance of doubt, we won't cover:\n",
    "- The mathematical underpinnings of:\n",
    "  - Linear algebra (including Ridge, SVM, PCA, etc)\n",
    "  - Neural networks and back propagation\n",
    "  - Gradient descent\n",
    "- Time series analysis\n",
    "- Designing your own machine learning algorithms"
   ]
  },
  {
   "cell_type": "markdown",
   "metadata": {
    "editable": true,
    "slideshow": {
     "slide_type": "subslide"
    },
    "tags": []
   },
   "source": [
    "### Course Objectives\n",
    "\n",
    "Instead, we will try and build your understanding of these methods through practice."
   ]
  },
  {
   "cell_type": "markdown",
   "metadata": {
    "editable": true,
    "slideshow": {
     "slide_type": "fragment"
    },
    "tags": []
   },
   "source": [
    "We will work through published examples of:\n",
    "- Climate model emulation\n",
    "- Plankton classification\n",
    "- Whale call detection\n",
    "- Learning stream modification patterns in a river basin\n",
    "- Satellite image clustering  "
   ]
  },
  {
   "cell_type": "markdown",
   "metadata": {
    "editable": true,
    "slideshow": {
     "slide_type": "slide"
    },
    "tags": []
   },
   "source": [
    "## Introductions"
   ]
  },
  {
   "cell_type": "markdown",
   "metadata": {
    "editable": true,
    "slideshow": {
     "slide_type": "subslide"
    },
    "tags": []
   },
   "source": [
    "### About me\n",
    " - Assistant Professor at SIO and HDSI, joined in Spring 2023\n",
    " - Run the [Climate Analytics Lab (CAL)](http://climate-analytics-lab.github.io/) - harnessing machine learning to improve climate projections"
   ]
  },
  {
   "cell_type": "markdown",
   "metadata": {
    "editable": true,
    "slideshow": {
     "slide_type": "subslide"
    },
    "tags": []
   },
   "source": [
    "<center><img src=\"_images/CAL.png\" alt=\"logo\"/></center>"
   ]
  },
  {
   "cell_type": "markdown",
   "metadata": {
    "editable": true,
    "slideshow": {
     "slide_type": "subslide"
    },
    "tags": []
   },
   "source": [
    "### About me\n",
    " - Assistant Professor at SIO and HDSI, joined in Spring 2023\n",
    " - Run the Climate Analytics Lab (CAL) - harnessing machine learning to improve climate projections\n",
    " - PhD from University of Manchester 2011 in Theoretical Physics\n",
    " - Worked as a software consultant 2011-2015 - many projects!\n",
    " - Postdoc + Senior Postdoc at University of Oxford 2015-2023 \n",
    " - Moved over from the UK with my wife and two kids (11 & 13)"
   ]
  },
  {
   "cell_type": "markdown",
   "metadata": {
    "editable": true,
    "slideshow": {
     "slide_type": "subslide"
    },
    "tags": []
   },
   "source": [
    "### Tell me about you\n",
    " \n",
    "  - What year are you in and which program?\n",
    "  - Previous experience with Python\n",
    "  - Previous experience with machine learning / statistics\n",
    "  - Any related projects you might have worked on"
   ]
  },
  {
   "cell_type": "markdown",
   "metadata": {
    "editable": true,
    "slideshow": {
     "slide_type": "slide"
    },
    "tags": []
   },
   "source": [
    "### Expectations\n",
    " - This is a graduate course so please feel free interrupt to ask questions\n",
    " - Let me know if you find the pace too fast, or too slow\n",
    " - I would encourage you to work in pairs during class exercises\n",
    " - Let me know if there is something I can do to make your learning easier\n",
    " - Be courteous and respectful of staff and other learners at all times \n",
    " - Feel free to use ChatGPT and other AI assistants in your work!"
   ]
  },
  {
   "cell_type": "markdown",
   "metadata": {
    "editable": true,
    "slideshow": {
     "slide_type": "subslide"
    },
    "tags": []
   },
   "source": [
    "### Logistics\n",
    "\n",
    " - Most course material will be made available on GitHub\n",
    " - Course specific material will be on Canvas:\n",
    "   - Lecture schedule and recordings\n",
    "   - Links to key datasets\n",
    "   - Office hours\n",
    "   - Grading policy\n",
    "   - Academic integrity policy"
   ]
  },
  {
   "cell_type": "markdown",
   "metadata": {
    "editable": true,
    "slideshow": {
     "slide_type": "subslide"
    },
    "tags": []
   },
   "source": [
    "### Grading and course structure"
   ]
  },
  {
   "cell_type": "markdown",
   "metadata": {
    "editable": true,
    "slideshow": {
     "slide_type": "fragment"
    },
    "tags": []
   },
   "source": [
    "- Four assignments worth 15% each\n",
    "- One final project worth 40%:\n",
    "  - 30% for report and 10% for 5-minute presentation\n",
    "- Coursework and final project can be completed collaboratively, but must be submitted individually. Co-authors should be explicitly declared."
   ]
  },
  {
   "cell_type": "markdown",
   "metadata": {
    "editable": true,
    "slideshow": {
     "slide_type": "subslide"
    },
    "tags": []
   },
   "source": [
    "### Course textbook and resources\n",
    "\n",
    "There is no official textbook but we will be heavily leaning on both:\n",
    " - Deep Learning with Python by François Chollet\n",
    " - Understanding Deep Learning by Simon Prince\n",
    "\n",
    " We also build heavily on the \"[Machine Learning for Earth and Environmental Sciences](https://tbeucler.github.io/2023_MLEES_Published_Book/)\" course by Tom Beucler at UNI Lausanne and \"[An Introduction to Earth and Environmental Data Science](https://earth-env-data-science.github.io/intro.html)\" by Ryan Abernathy."
   ]
  },
  {
   "cell_type": "markdown",
   "metadata": {
    "editable": true,
    "slideshow": {
     "slide_type": "subslide"
    },
    "tags": []
   },
   "source": [
    "### Course textbook and resources\n",
    "\n",
    "As the first running of this class many notes and lectures will appear as we go along, but a Jupyter Book with extended notes (and the lecture slides) is available on GitHub: https://github.com/climate-analytics-lab/sioc209-2024-sp\n",
    "\n",
    "If you find any mistakes or have suggestions for improvements you can always make a pull request :-)"
   ]
  },
  {
   "cell_type": "markdown",
   "metadata": {
    "editable": true,
    "slideshow": {
     "slide_type": "slide"
    },
    "tags": []
   },
   "source": [
    "## Python Setup"
   ]
  },
  {
   "cell_type": "markdown",
   "metadata": {
    "editable": true,
    "slideshow": {
     "slide_type": "fragment"
    },
    "tags": []
   },
   "source": [
    "During the course we will explore a number of real use-cases which use a variety of Python libraries, reflecting the broad options available. "
   ]
  },
  {
   "cell_type": "markdown",
   "metadata": {
    "editable": true,
    "slideshow": {
     "slide_type": "fragment"
    },
    "tags": []
   },
   "source": [
    "We have tried to harmonize the Python environment for the course to make it as straight-forward as possible, but you may still want to use multiple environments to keep the examples clean and separate."
   ]
  },
  {
   "cell_type": "markdown",
   "metadata": {
    "editable": true,
    "slideshow": {
     "slide_type": "fragment"
    },
    "tags": []
   },
   "source": [
    "We will use the rest of this lecture to ensure everyone has at least the base environment setup somewhere."
   ]
  },
  {
   "cell_type": "markdown",
   "metadata": {
    "editable": true,
    "slideshow": {
     "slide_type": "subslide"
    },
    "tags": []
   },
   "source": [
    "### Where to setup your environment\n",
    "\n",
    "As we will discover, deep learning often involves large amounts of data - 10s Gb or more. Sometimes much more.\n",
    "\n",
    "At the same time, training these algorithms can be much more efficient using specific hardware, such as GPUs and TPUs. Getting the data on to these chips is invariably the main bottleneck and so we want the data as close to them as possible (and ideally in memory).\n",
    "\n",
    "Therefore, we often find ourselves wanting, or needing, to use remote environments on large clusters which host the data and the hardware."
   ]
  },
  {
   "cell_type": "markdown",
   "metadata": {
    "editable": true,
    "slideshow": {
     "slide_type": "subslide"
    },
    "tags": []
   },
   "source": [
    "### Remote options\n",
    "\n",
    "Ideally you will have access to a dedicated cluster in your lab, or perhaps at a larger facility (e.g. [SDSC](https://www.sdsc.edu)). \n",
    "\n",
    "For this course we have deliberately cut down data sizes to make working on your laptop feasible, but you also have a couple of remote options:\n",
    "- UCSD DataHub\n",
    "- Google Colab"
   ]
  },
  {
   "cell_type": "markdown",
   "metadata": {
    "editable": true,
    "slideshow": {
     "slide_type": "subslide"
    },
    "tags": []
   },
   "source": [
    "### Remote options - DataHub\n",
    "\n",
    "DataHub provides free JupyterHub instances for classes in UCSD: https://datahub.ucsd.edu/"
   ]
  },
  {
   "cell_type": "markdown",
   "metadata": {
    "editable": true,
    "slideshow": {
     "slide_type": "fragment"
    },
    "tags": []
   },
   "source": [
    "Click 'Log In' and select the SIO 209 course to get a specific configuration that includes most of the key libraries we will use pre-installed."
   ]
  },
  {
   "cell_type": "markdown",
   "metadata": {
    "editable": true,
    "slideshow": {
     "slide_type": "fragment"
    },
    "tags": []
   },
   "source": [
    "Shared datasets will also be made available in the read-only `public` folder for ease of access"
   ]
  },
  {
   "cell_type": "markdown",
   "metadata": {
    "editable": true,
    "slideshow": {
     "slide_type": "subslide"
    },
    "tags": []
   },
   "source": [
    "### Remote options - Google Colab\n",
    "\n",
    "Google also provides a free (as in beer) platform for running small machine learning pipelines in the cloud: http://colab.research.google.com"
   ]
  },
  {
   "cell_type": "markdown",
   "metadata": {
    "editable": true,
    "slideshow": {
     "slide_type": "fragment"
    },
    "tags": []
   },
   "source": [
    "With this you can open notebooks in Drive, from GitHub or uploaded locally. You can also make use of Google's TPUs for efficient learning on small-ish tasks."
   ]
  },
  {
   "cell_type": "markdown",
   "metadata": {
    "editable": true,
    "slideshow": {
     "slide_type": "fragment"
    },
    "tags": []
   },
   "source": [
    "Shared data can be added directly by mounting the 'CAL Shared Data' Drive in your workspace. Specific libraries (such as `xarray`) need to be installed each time"
   ]
  },
  {
   "cell_type": "markdown",
   "metadata": {
    "editable": true,
    "slideshow": {
     "slide_type": "subslide"
    },
    "tags": []
   },
   "source": [
    "### Local options\n",
    "\n",
    "As noted, most of the examples used in this course should be runnable on your laptop, albeit slowly. "
   ]
  },
  {
   "cell_type": "markdown",
   "metadata": {
    "editable": true,
    "slideshow": {
     "slide_type": "fragment"
    },
    "tags": []
   },
   "source": [
    "Setting up a local environment is best done using `conda` and `pip`. "
   ]
  },
  {
   "cell_type": "markdown",
   "metadata": {
    "editable": true,
    "slideshow": {
     "slide_type": "fragment"
    },
    "tags": []
   },
   "source": [
    "I usually create a new environment using `conda` with e.g. `xarray` and `cartopy` and then install the ML libraries with `pip` which then includes optimizations for your hardware. YMMV!"
   ]
  },
  {
   "cell_type": "markdown",
   "metadata": {
    "editable": true,
    "slideshow": {
     "slide_type": "fragment"
    },
    "tags": []
   },
   "source": [
    "\n",
    "See detailed instructions [here](python_env_setup.md). Note, you can make use of Mac GPU's with `pip install tensorflow-metal`"
   ]
  },
  {
   "cell_type": "markdown",
   "metadata": {
    "editable": true,
    "slideshow": {
     "slide_type": "subslide"
    },
    "tags": []
   },
   "source": [
    "### Python requirements\n",
    "\n",
    "The full list of python packages required is in the [evironment.yml](../../environment.yml) file, but these are the important ones:\n",
    " - `python=3.10` (for compatibility)\n",
    " - `xarray`\n",
    " - `netcdf4`\n",
    " - `cartopy`\n",
    " - `scikit-learn`\n",
    " - `tensorflow`\n",
    "\n"
   ]
  },
  {
   "cell_type": "markdown",
   "metadata": {
    "editable": true,
    "slideshow": {
     "slide_type": "subslide"
    },
    "tags": []
   },
   "source": [
    "### Test code\n",
    "\n",
    "To check your environment, you should be able to succesfully run the following code (it trains an off-the-shelf CNN on a standard dataset):"
   ]
  },
  {
   "cell_type": "code",
   "execution_count": null,
   "metadata": {
    "editable": true,
    "slideshow": {
     "slide_type": ""
    },
    "tags": []
   },
   "outputs": [
    {
     "name": "stderr",
     "output_type": "stream",
     "text": [
      "2024-04-01 15:11:01.866813: I metal_plugin/src/device/metal_device.cc:1154] Metal device set to: Apple M2 Max\n",
      "2024-04-01 15:11:01.866839: I metal_plugin/src/device/metal_device.cc:296] systemMemory: 32.00 GB\n",
      "2024-04-01 15:11:01.866846: I metal_plugin/src/device/metal_device.cc:313] maxCacheSize: 10.67 GB\n",
      "2024-04-01 15:11:01.867047: I tensorflow/core/common_runtime/pluggable_device/pluggable_device_factory.cc:305] Could not identify NUMA node of platform GPU ID 0, defaulting to 0. Your kernel may not have been built with NUMA support.\n",
      "2024-04-01 15:11:01.867063: I tensorflow/core/common_runtime/pluggable_device/pluggable_device_factory.cc:271] Created TensorFlow device (/job:localhost/replica:0/task:0/device:GPU:0 with 0 MB memory) -> physical PluggableDevice (device: 0, name: METAL, pci bus id: <undefined>)\n"
     ]
    },
    {
     "name": "stdout",
     "output_type": "stream",
     "text": [
      "Epoch 1/5\n"
     ]
    },
    {
     "name": "stderr",
     "output_type": "stream",
     "text": [
      "2024-04-01 15:11:07.331859: I tensorflow/core/grappler/optimizers/custom_graph_optimizer_registry.cc:117] Plugin optimizer for device_type GPU is enabled.\n"
     ]
    },
    {
     "name": "stdout",
     "output_type": "stream",
     "text": [
      "\u001b[1m782/782\u001b[0m \u001b[32m━━━━━━━━━━━━━━━━━━━━\u001b[0m\u001b[37m\u001b[0m \u001b[1m556s\u001b[0m 668ms/step - accuracy: 0.0531 - loss: 5.1241\n",
      "Epoch 2/5\n",
      "\u001b[1m782/782\u001b[0m \u001b[32m━━━━━━━━━━━━━━━━━━━━\u001b[0m\u001b[37m\u001b[0m \u001b[1m1277s\u001b[0m 2s/step - accuracy: 0.0806 - loss: 4.6904\n",
      "Epoch 3/5\n",
      "\u001b[1m677/782\u001b[0m \u001b[32m━━━━━━━━━━━━━━━━━\u001b[0m\u001b[37m━━━\u001b[0m \u001b[1m1:04\u001b[0m 616ms/step - accuracy: 0.0768 - loss: 4.4067"
     ]
    }
   ],
   "source": [
    "import tensorflow as tf\n",
    "\n",
    "cifar = tf.keras.datasets.cifar100\n",
    "(x_train, y_train), (x_test, y_test) = cifar.load_data()\n",
    "model = tf.keras.applications.ResNet50(\n",
    "    include_top=True,\n",
    "    weights=None,\n",
    "    input_shape=(32, 32, 3),\n",
    "    classes=100,)\n",
    "\n",
    "loss_fn = tf.keras.losses.SparseCategoricalCrossentropy(from_logits=False)\n",
    "model.compile(optimizer=\"adam\", loss=loss_fn, metrics=[\"accuracy\"])\n",
    "model.fit(x_train, y_train, epochs=5, batch_size=64)"
   ]
  },
  {
   "cell_type": "code",
   "execution_count": null,
   "metadata": {},
   "outputs": [],
   "source": []
  }
 ],
 "metadata": {
  "kernelspec": {
   "display_name": "Python 3 (ipykernel)",
   "language": "python",
   "name": "python3"
  },
  "language_info": {
   "codemirror_mode": {
    "name": "ipython",
    "version": 3
   },
   "file_extension": ".py",
   "mimetype": "text/x-python",
   "name": "python",
   "nbconvert_exporter": "python",
   "pygments_lexer": "ipython3",
   "version": "3.10.13"
  }
 },
 "nbformat": 4,
 "nbformat_minor": 4
}
